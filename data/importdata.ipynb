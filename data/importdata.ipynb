{
 "cells": [
  {
   "cell_type": "code",
   "execution_count": 1,
   "metadata": {},
   "outputs": [
    {
     "ename": "ModuleNotFoundError",
     "evalue": "No module named 'pyodbc'",
     "output_type": "error",
     "traceback": [
      "\u001b[1;31m---------------------------------------------------------------------------\u001b[0m",
      "\u001b[1;31mModuleNotFoundError\u001b[0m                       Traceback (most recent call last)",
      "\u001b[1;32mc:\\Users\\Dell\\IHBS_data\\data\\importdata.ipynb Cell 1\u001b[0m line \u001b[0;36m2\n\u001b[0;32m      <a href='vscode-notebook-cell:/c%3A/Users/Dell/IHBS_data/data/importdata.ipynb#W0sZmlsZQ%3D%3D?line=0'>1</a>\u001b[0m \u001b[39m# Libraries\u001b[39;00m\n\u001b[1;32m----> <a href='vscode-notebook-cell:/c%3A/Users/Dell/IHBS_data/data/importdata.ipynb#W0sZmlsZQ%3D%3D?line=1'>2</a>\u001b[0m \u001b[39mimport\u001b[39;00m \u001b[39mpyodbc\u001b[39;00m\n\u001b[0;32m      <a href='vscode-notebook-cell:/c%3A/Users/Dell/IHBS_data/data/importdata.ipynb#W0sZmlsZQ%3D%3D?line=2'>3</a>\u001b[0m \u001b[39mimport\u001b[39;00m \u001b[39mnumpy\u001b[39;00m \u001b[39mas\u001b[39;00m \u001b[39mnp\u001b[39;00m\n\u001b[0;32m      <a href='vscode-notebook-cell:/c%3A/Users/Dell/IHBS_data/data/importdata.ipynb#W0sZmlsZQ%3D%3D?line=3'>4</a>\u001b[0m \u001b[39mimport\u001b[39;00m \u001b[39mpandas\u001b[39;00m \u001b[39mas\u001b[39;00m \u001b[39mpd\u001b[39;00m\n",
      "\u001b[1;31mModuleNotFoundError\u001b[0m: No module named 'pyodbc'"
     ]
    }
   ],
   "source": [
    "# Libraries\n",
    "import pyodbc\n",
    "import numpy as np\n",
    "import pandas as pd\n",
    "import pypyodbc\n",
    "import pyodbc\n"
   ]
  },
  {
   "cell_type": "code",
   "execution_count": null,
   "metadata": {},
   "outputs": [],
   "source": []
  },
  {
   "cell_type": "code",
   "execution_count": 2,
   "metadata": {},
   "outputs": [],
   "source": [
    "# Connect to the Access database\n",
    "\n",
    "access_path = \"C:/Users/Dell/Data Warehouse/97/97/Data97/Data97.mdb\"\n",
    "access_conn_str = (r'Driver={Microsoft Access Driver (*.mdb, *.accdb)};'\n",
    "                   fr'DBQ={access_path};')\n",
    "access_conn = pyodbc.connect(access_conn_str)\n",
    "access_cursor = access_conn.cursor()"
   ]
  },
  {
   "cell_type": "code",
   "execution_count": 3,
   "metadata": {},
   "outputs": [],
   "source": [
    "# Get a list of all the tables in the Access database\n",
    "table_list = [table.table_name for table in access_cursor.tables(tableType='TABLE')]"
   ]
  },
  {
   "cell_type": "code",
   "execution_count": 4,
   "metadata": {},
   "outputs": [],
   "source": [
    "# Loop through each table\n",
    "for table_name in table_list:\n",
    "    # Extract Schema\n",
    "    table_columns = []\n",
    "    table_columns02 = []\n",
    "    for column_info in access_cursor.columns(table=table_name):\n",
    "        column_name = column_info.column_name\n",
    "        column_type = column_info.type_name\n",
    "        table_columns.append(f\"{column_name} {column_type}\")\n",
    "        table_columns02.append(f\"{column_name}\")\n",
    "    table_schema = \", \".join(table_columns)\n",
    "\n",
    "    # Extract the data from the Access table\n",
    "    access_cursor.execute(f\"SELECT * FROM [{table_name}]\")\n",
    "    data = access_cursor.fetchall()\n",
    "    if data:\n",
    "        # Convert the data to a pandas DataFrame\n",
    "        df = pd.DataFrame([list(row) for row in data])\n",
    "        df.columns = table_columns02\n",
    "        df.to_csv(f\"{table_name}.csv\", index=False)\n",
    "\n",
    "\n",
    "# Close the Access connection\n",
    "access_conn.close()"
   ]
  }
 ],
 "metadata": {
  "kernelspec": {
   "display_name": "573",
   "language": "python",
   "name": "python3"
  },
  "language_info": {
   "codemirror_mode": {
    "name": "ipython",
    "version": 3
   },
   "file_extension": ".py",
   "mimetype": "text/x-python",
   "name": "python",
   "nbconvert_exporter": "python",
   "pygments_lexer": "ipython3",
   "version": "3.11.4"
  }
 },
 "nbformat": 4,
 "nbformat_minor": 2
}
